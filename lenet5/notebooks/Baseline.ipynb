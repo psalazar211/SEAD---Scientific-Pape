{
  "nbformat": 4,
  "nbformat_minor": 0,
  "metadata": {
    "colab": {
      "provenance": []
    },
    "kernelspec": {
      "name": "python3",
      "display_name": "Python 3"
    },
    "language_info": {
      "name": "python"
    }
  },
  "cells": [
    {
      "cell_type": "markdown",
      "source": [
        "## Lenet 5 con MNIST"
      ],
      "metadata": {
        "id": "X-3jlT8i_6BO"
      }
    },
    {
      "cell_type": "markdown",
      "source": [
        "Imports"
      ],
      "metadata": {
        "id": "6-HEMtXRBJfw"
      }
    },
    {
      "cell_type": "code",
      "source": [
        "import tempfile\n",
        "import os\n",
        "import time\n",
        "import tensorflow as tf\n",
        "from tensorflow import keras\n",
        "from tensorflow.keras import datasets, layers, models, losses"
      ],
      "metadata": {
        "id": "lk11GE77AKBq"
      },
      "execution_count": 8,
      "outputs": []
    },
    {
      "cell_type": "markdown",
      "source": [
        "Load dataset"
      ],
      "metadata": {
        "id": "V0oABirvBK7t"
      }
    },
    {
      "cell_type": "code",
      "source": [
        "mnist = keras.datasets.mnist\n",
        "(train_images, train_labels), (test_images, test_labels) = mnist.load_data()\n",
        "train_images.shape"
      ],
      "metadata": {
        "colab": {
          "base_uri": "https://localhost:8080/"
        },
        "id": "J2k1vLhQBNHo",
        "outputId": "4c242faa-2df9-4858-af61-879a50ce4bd4"
      },
      "execution_count": 2,
      "outputs": [
        {
          "output_type": "execute_result",
          "data": {
            "text/plain": [
              "(60000, 28, 28)"
            ]
          },
          "metadata": {},
          "execution_count": 2
        }
      ]
    },
    {
      "cell_type": "markdown",
      "source": [
        "Normalize the input image so that each pixel value is between 0 to 1."
      ],
      "metadata": {
        "id": "pKqjTRJZBYjm"
      }
    },
    {
      "cell_type": "code",
      "source": [
        "train_images = tf.pad(train_images, [[0, 0], [2,2], [2,2]])/255\n",
        "test_images = tf.pad(test_images, [[0, 0], [2,2], [2,2]])/255\n",
        "train_images.shape"
      ],
      "metadata": {
        "colab": {
          "base_uri": "https://localhost:8080/"
        },
        "id": "POC_cPhyBjb9",
        "outputId": "fb27575a-6910-4c3b-92e2-59fc31f78dbd"
      },
      "execution_count": 3,
      "outputs": [
        {
          "output_type": "execute_result",
          "data": {
            "text/plain": [
              "TensorShape([60000, 32, 32])"
            ]
          },
          "metadata": {},
          "execution_count": 3
        }
      ]
    },
    {
      "cell_type": "markdown",
      "source": [
        "Most CNN’s accept 4-dimensional tensors as inputs having the dimensions of batch size, height, width, and channel. Since MNIST images are grayscale, the last dimension does not necessarily exist. We need to expand the tensor and create a dummy dimension at axis number 3. (Recall that the tensor initially had axis 0, 1, and 2.)"
      ],
      "metadata": {
        "id": "pyvXrMcTJ-rx"
      }
    },
    {
      "cell_type": "code",
      "source": [
        "train_images = tf.expand_dims(train_images, axis=3, name=None)\n",
        "test_images = tf.expand_dims(test_images, axis=3, name=None)\n",
        "train_images.shape"
      ],
      "metadata": {
        "colab": {
          "base_uri": "https://localhost:8080/"
        },
        "id": "XJ9BW1LzKAAx",
        "outputId": "9a524279-08d1-4e63-dc0e-6b48e8da19b8"
      },
      "execution_count": 4,
      "outputs": [
        {
          "output_type": "execute_result",
          "data": {
            "text/plain": [
              "TensorShape([60000, 32, 32, 1])"
            ]
          },
          "metadata": {},
          "execution_count": 4
        }
      ]
    },
    {
      "cell_type": "markdown",
      "source": [
        "The last 2000 samples of the training set are reserved for the validation set."
      ],
      "metadata": {
        "id": "IlBlYJ2HK246"
      }
    },
    {
      "cell_type": "code",
      "source": [
        "val_images = train_images[-2000:,:,:,:]\n",
        "val_labels = train_labels[-2000:]\n",
        "train_images = train_images[:-2000,:,:,:]\n",
        "train_labels = train_labels[:-2000]"
      ],
      "metadata": {
        "id": "QfW9oSdhK3tm"
      },
      "execution_count": 5,
      "outputs": []
    },
    {
      "cell_type": "markdown",
      "source": [
        "Define the model architecture."
      ],
      "metadata": {
        "id": "OpmYmYzpBtOl"
      }
    },
    {
      "cell_type": "code",
      "source": [
        "model = models.Sequential()\n",
        "model.add(layers.Conv2D(6, 5, activation='tanh', input_shape=train_images.shape[1:]))\n",
        "model.add(layers.AveragePooling2D(2))\n",
        "model.add(layers.Activation('sigmoid'))\n",
        "model.add(layers.Conv2D(16, 5, activation='tanh'))\n",
        "model.add(layers.AveragePooling2D(2))\n",
        "model.add(layers.Activation('sigmoid'))\n",
        "model.add(layers.Conv2D(120, 5, activation='tanh'))\n",
        "model.add(layers.Flatten())\n",
        "model.add(layers.Dense(84, activation='tanh'))\n",
        "model.add(layers.Dense(10, activation='softmax'))\n",
        "model.summary()"
      ],
      "metadata": {
        "colab": {
          "base_uri": "https://localhost:8080/"
        },
        "id": "Da5u0EHUBx8T",
        "outputId": "21d62258-692b-4889-923e-f4691ca5d704"
      },
      "execution_count": 6,
      "outputs": [
        {
          "output_type": "stream",
          "name": "stdout",
          "text": [
            "Model: \"sequential\"\n",
            "_________________________________________________________________\n",
            " Layer (type)                Output Shape              Param #   \n",
            "=================================================================\n",
            " conv2d (Conv2D)             (None, 28, 28, 6)         156       \n",
            "                                                                 \n",
            " average_pooling2d (AverageP  (None, 14, 14, 6)        0         \n",
            " ooling2D)                                                       \n",
            "                                                                 \n",
            " activation (Activation)     (None, 14, 14, 6)         0         \n",
            "                                                                 \n",
            " conv2d_1 (Conv2D)           (None, 10, 10, 16)        2416      \n",
            "                                                                 \n",
            " average_pooling2d_1 (Averag  (None, 5, 5, 16)         0         \n",
            " ePooling2D)                                                     \n",
            "                                                                 \n",
            " activation_1 (Activation)   (None, 5, 5, 16)          0         \n",
            "                                                                 \n",
            " conv2d_2 (Conv2D)           (None, 1, 1, 120)         48120     \n",
            "                                                                 \n",
            " flatten (Flatten)           (None, 120)               0         \n",
            "                                                                 \n",
            " dense (Dense)               (None, 84)                10164     \n",
            "                                                                 \n",
            " dense_1 (Dense)             (None, 10)                850       \n",
            "                                                                 \n",
            "=================================================================\n",
            "Total params: 61,706\n",
            "Trainable params: 61,706\n",
            "Non-trainable params: 0\n",
            "_________________________________________________________________\n"
          ]
        }
      ]
    },
    {
      "cell_type": "markdown",
      "source": [
        "Train model"
      ],
      "metadata": {
        "id": "sITxXcEqLiHW"
      }
    },
    {
      "cell_type": "code",
      "source": [
        "model.compile(optimizer='adam', loss=losses.sparse_categorical_crossentropy, metrics=['accuracy'])\n",
        "history = model.fit(train_images, train_labels, batch_size=64, epochs=40, validation_data=(val_images, val_labels))"
      ],
      "metadata": {
        "colab": {
          "base_uri": "https://localhost:8080/"
        },
        "id": "Je-yfy70EQFb",
        "outputId": "79b0753c-7d62-4489-f52a-bfe0500323c3"
      },
      "execution_count": 7,
      "outputs": [
        {
          "output_type": "stream",
          "name": "stdout",
          "text": [
            "Epoch 1/40\n",
            "907/907 [==============================] - 42s 44ms/step - loss: 1.4236 - accuracy: 0.4827 - val_loss: 0.2738 - val_accuracy: 0.9230\n",
            "Epoch 2/40\n",
            "907/907 [==============================] - 37s 40ms/step - loss: 0.3136 - accuracy: 0.9021 - val_loss: 0.1796 - val_accuracy: 0.9520\n",
            "Epoch 3/40\n",
            "907/907 [==============================] - 37s 40ms/step - loss: 0.2388 - accuracy: 0.9231 - val_loss: 0.1228 - val_accuracy: 0.9625\n",
            "Epoch 4/40\n",
            "907/907 [==============================] - 35s 39ms/step - loss: 0.1973 - accuracy: 0.9362 - val_loss: 0.1292 - val_accuracy: 0.9670\n",
            "Epoch 5/40\n",
            "907/907 [==============================] - 36s 40ms/step - loss: 0.1675 - accuracy: 0.9469 - val_loss: 0.1262 - val_accuracy: 0.9630\n",
            "Epoch 6/40\n",
            "907/907 [==============================] - 36s 40ms/step - loss: 0.1529 - accuracy: 0.9512 - val_loss: 0.1132 - val_accuracy: 0.9710\n",
            "Epoch 7/40\n",
            "907/907 [==============================] - 36s 40ms/step - loss: 0.1389 - accuracy: 0.9554 - val_loss: 0.1050 - val_accuracy: 0.9740\n",
            "Epoch 8/40\n",
            "907/907 [==============================] - 35s 38ms/step - loss: 0.1273 - accuracy: 0.9595 - val_loss: 0.0954 - val_accuracy: 0.9740\n",
            "Epoch 9/40\n",
            "907/907 [==============================] - 36s 40ms/step - loss: 0.1174 - accuracy: 0.9623 - val_loss: 0.0900 - val_accuracy: 0.9785\n",
            "Epoch 10/40\n",
            "907/907 [==============================] - 36s 40ms/step - loss: 0.1108 - accuracy: 0.9650 - val_loss: 0.0871 - val_accuracy: 0.9785\n",
            "Epoch 11/40\n",
            "907/907 [==============================] - 36s 40ms/step - loss: 0.1058 - accuracy: 0.9668 - val_loss: 0.0809 - val_accuracy: 0.9805\n",
            "Epoch 12/40\n",
            "907/907 [==============================] - 35s 38ms/step - loss: 0.0980 - accuracy: 0.9690 - val_loss: 0.0712 - val_accuracy: 0.9795\n",
            "Epoch 13/40\n",
            "907/907 [==============================] - 36s 39ms/step - loss: 0.0930 - accuracy: 0.9709 - val_loss: 0.1053 - val_accuracy: 0.9725\n",
            "Epoch 14/40\n",
            "907/907 [==============================] - 36s 40ms/step - loss: 0.0883 - accuracy: 0.9721 - val_loss: 0.0838 - val_accuracy: 0.9765\n",
            "Epoch 15/40\n",
            "907/907 [==============================] - 36s 39ms/step - loss: 0.0842 - accuracy: 0.9732 - val_loss: 0.0903 - val_accuracy: 0.9790\n",
            "Epoch 16/40\n",
            "907/907 [==============================] - 35s 38ms/step - loss: 0.0797 - accuracy: 0.9745 - val_loss: 0.0666 - val_accuracy: 0.9840\n",
            "Epoch 17/40\n",
            "907/907 [==============================] - 39s 43ms/step - loss: 0.0812 - accuracy: 0.9737 - val_loss: 0.1116 - val_accuracy: 0.9710\n",
            "Epoch 18/40\n",
            "907/907 [==============================] - 36s 40ms/step - loss: 0.0744 - accuracy: 0.9761 - val_loss: 0.0842 - val_accuracy: 0.9765\n",
            "Epoch 19/40\n",
            "907/907 [==============================] - 35s 39ms/step - loss: 0.0730 - accuracy: 0.9766 - val_loss: 0.0667 - val_accuracy: 0.9845\n",
            "Epoch 20/40\n",
            "907/907 [==============================] - 35s 39ms/step - loss: 0.0726 - accuracy: 0.9769 - val_loss: 0.0687 - val_accuracy: 0.9835\n",
            "Epoch 21/40\n",
            "907/907 [==============================] - 36s 40ms/step - loss: 0.0714 - accuracy: 0.9766 - val_loss: 0.0863 - val_accuracy: 0.9775\n",
            "Epoch 22/40\n",
            "907/907 [==============================] - 36s 40ms/step - loss: 0.0642 - accuracy: 0.9794 - val_loss: 0.0649 - val_accuracy: 0.9865\n",
            "Epoch 23/40\n",
            "907/907 [==============================] - 35s 38ms/step - loss: 0.0677 - accuracy: 0.9778 - val_loss: 0.0822 - val_accuracy: 0.9770\n",
            "Epoch 24/40\n",
            "907/907 [==============================] - 36s 40ms/step - loss: 0.0608 - accuracy: 0.9799 - val_loss: 0.0800 - val_accuracy: 0.9785\n",
            "Epoch 25/40\n",
            "907/907 [==============================] - 38s 42ms/step - loss: 0.0632 - accuracy: 0.9790 - val_loss: 0.0713 - val_accuracy: 0.9820\n",
            "Epoch 26/40\n",
            "907/907 [==============================] - 36s 40ms/step - loss: 0.0589 - accuracy: 0.9806 - val_loss: 0.0689 - val_accuracy: 0.9855\n",
            "Epoch 27/40\n",
            "907/907 [==============================] - 36s 40ms/step - loss: 0.0570 - accuracy: 0.9813 - val_loss: 0.0883 - val_accuracy: 0.9785\n",
            "Epoch 28/40\n",
            "907/907 [==============================] - 35s 38ms/step - loss: 0.0598 - accuracy: 0.9804 - val_loss: 0.0814 - val_accuracy: 0.9850\n",
            "Epoch 29/40\n",
            "907/907 [==============================] - 36s 40ms/step - loss: 0.0534 - accuracy: 0.9826 - val_loss: 0.0698 - val_accuracy: 0.9850\n",
            "Epoch 30/40\n",
            "907/907 [==============================] - 36s 40ms/step - loss: 0.0537 - accuracy: 0.9827 - val_loss: 0.0604 - val_accuracy: 0.9885\n",
            "Epoch 31/40\n",
            "907/907 [==============================] - 36s 40ms/step - loss: 0.0520 - accuracy: 0.9829 - val_loss: 0.0689 - val_accuracy: 0.9840\n",
            "Epoch 32/40\n",
            "907/907 [==============================] - 35s 38ms/step - loss: 0.0510 - accuracy: 0.9832 - val_loss: 0.0638 - val_accuracy: 0.9840\n",
            "Epoch 33/40\n",
            "907/907 [==============================] - 36s 40ms/step - loss: 0.0489 - accuracy: 0.9847 - val_loss: 0.0742 - val_accuracy: 0.9820\n",
            "Epoch 34/40\n",
            "907/907 [==============================] - 38s 42ms/step - loss: 0.0501 - accuracy: 0.9835 - val_loss: 0.0752 - val_accuracy: 0.9825\n",
            "Epoch 35/40\n",
            "907/907 [==============================] - 36s 40ms/step - loss: 0.0473 - accuracy: 0.9847 - val_loss: 0.0690 - val_accuracy: 0.9825\n",
            "Epoch 36/40\n",
            "907/907 [==============================] - 36s 39ms/step - loss: 0.0467 - accuracy: 0.9842 - val_loss: 0.0734 - val_accuracy: 0.9810\n",
            "Epoch 37/40\n",
            "907/907 [==============================] - 35s 38ms/step - loss: 0.0473 - accuracy: 0.9842 - val_loss: 0.0999 - val_accuracy: 0.9755\n",
            "Epoch 38/40\n",
            "907/907 [==============================] - 36s 40ms/step - loss: 0.0473 - accuracy: 0.9841 - val_loss: 0.0624 - val_accuracy: 0.9880\n",
            "Epoch 39/40\n",
            "907/907 [==============================] - 36s 40ms/step - loss: 0.0428 - accuracy: 0.9856 - val_loss: 0.0657 - val_accuracy: 0.9845\n",
            "Epoch 40/40\n",
            "907/907 [==============================] - 36s 40ms/step - loss: 0.0418 - accuracy: 0.9868 - val_loss: 0.0699 - val_accuracy: 0.9810\n"
          ]
        }
      ]
    },
    {
      "cell_type": "markdown",
      "source": [
        "Evaluate"
      ],
      "metadata": {
        "id": "rYpstnQ2SWCk"
      }
    },
    {
      "cell_type": "code",
      "source": [
        "start = time.time()\n",
        "accuracy = model.evaluate(test_images, test_labels)\n",
        "end = time.time()\n",
        "print(\"Accuracy :\",accuracy[1])\n",
        "print(\"Images per second :\", int(test_images.shape[0]/(end - start)))"
      ],
      "metadata": {
        "colab": {
          "base_uri": "https://localhost:8080/"
        },
        "id": "bQATuxBQTUAR",
        "outputId": "354443fe-750c-445d-95a9-d645580dff85"
      },
      "execution_count": 20,
      "outputs": [
        {
          "output_type": "stream",
          "name": "stdout",
          "text": [
            "313/313 [==============================] - 4s 13ms/step - loss: 0.0572 - accuracy: 0.9807\n",
            "Accuracy : 0.9807000160217285\n",
            "Images per second : 1880\n"
          ]
        }
      ]
    },
    {
      "cell_type": "code",
      "source": [
        "# Guardar el Modelo\n",
        "model.save('model.h5')\n"
      ],
      "metadata": {
        "id": "KMhULrkAVcBr"
      },
      "execution_count": 23,
      "outputs": []
    }
  ]
}