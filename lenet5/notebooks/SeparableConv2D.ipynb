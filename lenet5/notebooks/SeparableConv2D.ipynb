{
  "nbformat": 4,
  "nbformat_minor": 0,
  "metadata": {
    "colab": {
      "provenance": []
    },
    "kernelspec": {
      "name": "python3",
      "display_name": "Python 3"
    },
    "language_info": {
      "name": "python"
    }
  },
  "cells": [
    {
      "cell_type": "markdown",
      "source": [
        "## Lenet 5 con MNIST"
      ],
      "metadata": {
        "id": "X-3jlT8i_6BO"
      }
    },
    {
      "cell_type": "markdown",
      "source": [
        "Imports"
      ],
      "metadata": {
        "id": "6-HEMtXRBJfw"
      }
    },
    {
      "cell_type": "code",
      "source": [
        "import tempfile\n",
        "import os\n",
        "import time\n",
        "import tensorflow as tf\n",
        "from tensorflow import keras\n",
        "from tensorflow.keras import datasets, layers, models, losses"
      ],
      "metadata": {
        "id": "lk11GE77AKBq"
      },
      "execution_count": 1,
      "outputs": []
    },
    {
      "cell_type": "markdown",
      "source": [
        "Load dataset"
      ],
      "metadata": {
        "id": "V0oABirvBK7t"
      }
    },
    {
      "cell_type": "code",
      "source": [
        "mnist = keras.datasets.mnist\n",
        "(train_images, train_labels), (test_images, test_labels) = mnist.load_data()\n",
        "train_images.shape"
      ],
      "metadata": {
        "colab": {
          "base_uri": "https://localhost:8080/"
        },
        "id": "J2k1vLhQBNHo",
        "outputId": "5a1af4b0-e5d2-426a-f9ef-ad29643c97c4"
      },
      "execution_count": 2,
      "outputs": [
        {
          "output_type": "stream",
          "name": "stdout",
          "text": [
            "Downloading data from https://storage.googleapis.com/tensorflow/tf-keras-datasets/mnist.npz\n",
            "11490434/11490434 [==============================] - 0s 0us/step\n"
          ]
        },
        {
          "output_type": "execute_result",
          "data": {
            "text/plain": [
              "(60000, 28, 28)"
            ]
          },
          "metadata": {},
          "execution_count": 2
        }
      ]
    },
    {
      "cell_type": "markdown",
      "source": [
        "Normalize the input image so that each pixel value is between 0 to 1."
      ],
      "metadata": {
        "id": "pKqjTRJZBYjm"
      }
    },
    {
      "cell_type": "code",
      "source": [
        "train_images = tf.pad(train_images, [[0, 0], [2,2], [2,2]])/255\n",
        "test_images = tf.pad(test_images, [[0, 0], [2,2], [2,2]])/255\n",
        "train_images.shape"
      ],
      "metadata": {
        "colab": {
          "base_uri": "https://localhost:8080/"
        },
        "id": "POC_cPhyBjb9",
        "outputId": "4126e092-ab2d-4303-8d0f-7a665138270d"
      },
      "execution_count": 3,
      "outputs": [
        {
          "output_type": "execute_result",
          "data": {
            "text/plain": [
              "TensorShape([60000, 32, 32])"
            ]
          },
          "metadata": {},
          "execution_count": 3
        }
      ]
    },
    {
      "cell_type": "markdown",
      "source": [
        "Most CNN’s accept 4-dimensional tensors as inputs having the dimensions of batch size, height, width, and channel. Since MNIST images are grayscale, the last dimension does not necessarily exist. We need to expand the tensor and create a dummy dimension at axis number 3. (Recall that the tensor initially had axis 0, 1, and 2.)"
      ],
      "metadata": {
        "id": "pyvXrMcTJ-rx"
      }
    },
    {
      "cell_type": "code",
      "source": [
        "train_images = tf.expand_dims(train_images, axis=3, name=None)\n",
        "test_images = tf.expand_dims(test_images, axis=3, name=None)\n",
        "train_images.shape"
      ],
      "metadata": {
        "colab": {
          "base_uri": "https://localhost:8080/"
        },
        "id": "XJ9BW1LzKAAx",
        "outputId": "80c500a6-ffd5-49a7-d217-269bdcab60f9"
      },
      "execution_count": 4,
      "outputs": [
        {
          "output_type": "execute_result",
          "data": {
            "text/plain": [
              "TensorShape([60000, 32, 32, 1])"
            ]
          },
          "metadata": {},
          "execution_count": 4
        }
      ]
    },
    {
      "cell_type": "markdown",
      "source": [
        "The last 2000 samples of the training set are reserved for the validation set."
      ],
      "metadata": {
        "id": "IlBlYJ2HK246"
      }
    },
    {
      "cell_type": "code",
      "source": [
        "val_images = train_images[-2000:,:,:,:]\n",
        "val_labels = train_labels[-2000:]\n",
        "train_images = train_images[:-2000,:,:,:]\n",
        "train_labels = train_labels[:-2000]"
      ],
      "metadata": {
        "id": "QfW9oSdhK3tm"
      },
      "execution_count": 5,
      "outputs": []
    },
    {
      "cell_type": "markdown",
      "source": [
        "Define the model architecture."
      ],
      "metadata": {
        "id": "OpmYmYzpBtOl"
      }
    },
    {
      "cell_type": "code",
      "source": [
        "model = models.Sequential()\n",
        "model.add(layers.SeparableConv2D(6, 5, activation='tanh', input_shape=train_images.shape[1:]))\n",
        "model.add(layers.AveragePooling2D(2))\n",
        "model.add(layers.Activation('sigmoid'))\n",
        "model.add(layers.SeparableConv2D(16, 5, activation='tanh'))\n",
        "model.add(layers.AveragePooling2D(2))\n",
        "model.add(layers.Activation('sigmoid'))\n",
        "model.add(layers.SeparableConv2D(120, 5, activation='tanh'))\n",
        "model.add(layers.Flatten())\n",
        "model.add(layers.Dense(84, activation='tanh'))\n",
        "model.add(layers.Dense(10, activation='softmax'))\n",
        "model.summary()"
      ],
      "metadata": {
        "colab": {
          "base_uri": "https://localhost:8080/"
        },
        "id": "Da5u0EHUBx8T",
        "outputId": "5dfbf236-e343-4be2-d9e3-e70fdaf0437e"
      },
      "execution_count": 6,
      "outputs": [
        {
          "output_type": "stream",
          "name": "stdout",
          "text": [
            "Model: \"sequential\"\n",
            "_________________________________________________________________\n",
            " Layer (type)                Output Shape              Param #   \n",
            "=================================================================\n",
            " separable_conv2d (Separable  (None, 28, 28, 6)        37        \n",
            " Conv2D)                                                         \n",
            "                                                                 \n",
            " average_pooling2d (AverageP  (None, 14, 14, 6)        0         \n",
            " ooling2D)                                                       \n",
            "                                                                 \n",
            " activation (Activation)     (None, 14, 14, 6)         0         \n",
            "                                                                 \n",
            " separable_conv2d_1 (Separab  (None, 10, 10, 16)       262       \n",
            " leConv2D)                                                       \n",
            "                                                                 \n",
            " average_pooling2d_1 (Averag  (None, 5, 5, 16)         0         \n",
            " ePooling2D)                                                     \n",
            "                                                                 \n",
            " activation_1 (Activation)   (None, 5, 5, 16)          0         \n",
            "                                                                 \n",
            " separable_conv2d_2 (Separab  (None, 1, 1, 120)        2440      \n",
            " leConv2D)                                                       \n",
            "                                                                 \n",
            " flatten (Flatten)           (None, 120)               0         \n",
            "                                                                 \n",
            " dense (Dense)               (None, 84)                10164     \n",
            "                                                                 \n",
            " dense_1 (Dense)             (None, 10)                850       \n",
            "                                                                 \n",
            "=================================================================\n",
            "Total params: 13,753\n",
            "Trainable params: 13,753\n",
            "Non-trainable params: 0\n",
            "_________________________________________________________________\n"
          ]
        }
      ]
    },
    {
      "cell_type": "markdown",
      "source": [
        "Train model"
      ],
      "metadata": {
        "id": "sITxXcEqLiHW"
      }
    },
    {
      "cell_type": "code",
      "source": [
        "model.compile(optimizer='adam', loss=losses.sparse_categorical_crossentropy, metrics=['accuracy'])\n",
        "history = model.fit(train_images, train_labels, batch_size=64, epochs=40, validation_data=(val_images, val_labels))"
      ],
      "metadata": {
        "colab": {
          "base_uri": "https://localhost:8080/"
        },
        "id": "Je-yfy70EQFb",
        "outputId": "69cb1c05-0b32-4540-a772-72480447b22e"
      },
      "execution_count": 7,
      "outputs": [
        {
          "output_type": "stream",
          "name": "stdout",
          "text": [
            "Epoch 1/40\n",
            "907/907 [==============================] - 61s 63ms/step - loss: 1.1946 - accuracy: 0.5717 - val_loss: 0.3601 - val_accuracy: 0.8915\n",
            "Epoch 2/40\n",
            "907/907 [==============================] - 64s 70ms/step - loss: 0.4086 - accuracy: 0.8722 - val_loss: 0.2644 - val_accuracy: 0.9200\n",
            "Epoch 3/40\n",
            "907/907 [==============================] - 56s 62ms/step - loss: 0.3115 - accuracy: 0.9031 - val_loss: 0.1841 - val_accuracy: 0.9420\n",
            "Epoch 4/40\n",
            "907/907 [==============================] - 56s 62ms/step - loss: 0.2643 - accuracy: 0.9163 - val_loss: 0.1570 - val_accuracy: 0.9580\n",
            "Epoch 5/40\n",
            "907/907 [==============================] - 57s 63ms/step - loss: 0.2296 - accuracy: 0.9284 - val_loss: 0.1354 - val_accuracy: 0.9630\n",
            "Epoch 6/40\n",
            "907/907 [==============================] - 56s 62ms/step - loss: 0.2064 - accuracy: 0.9361 - val_loss: 0.1263 - val_accuracy: 0.9660\n",
            "Epoch 7/40\n",
            "907/907 [==============================] - 56s 62ms/step - loss: 0.1886 - accuracy: 0.9410 - val_loss: 0.1239 - val_accuracy: 0.9665\n",
            "Epoch 8/40\n",
            "907/907 [==============================] - 57s 63ms/step - loss: 0.1763 - accuracy: 0.9454 - val_loss: 0.1221 - val_accuracy: 0.9640\n",
            "Epoch 9/40\n",
            "907/907 [==============================] - 56s 62ms/step - loss: 0.1634 - accuracy: 0.9488 - val_loss: 0.1240 - val_accuracy: 0.9630\n",
            "Epoch 10/40\n",
            "907/907 [==============================] - 56s 62ms/step - loss: 0.1554 - accuracy: 0.9517 - val_loss: 0.1194 - val_accuracy: 0.9645\n",
            "Epoch 11/40\n",
            "907/907 [==============================] - 56s 62ms/step - loss: 0.1483 - accuracy: 0.9526 - val_loss: 0.0997 - val_accuracy: 0.9740\n",
            "Epoch 12/40\n",
            "907/907 [==============================] - 56s 62ms/step - loss: 0.1384 - accuracy: 0.9566 - val_loss: 0.1136 - val_accuracy: 0.9675\n",
            "Epoch 13/40\n",
            "907/907 [==============================] - 57s 62ms/step - loss: 0.1372 - accuracy: 0.9571 - val_loss: 0.0964 - val_accuracy: 0.9695\n",
            "Epoch 14/40\n",
            "907/907 [==============================] - 56s 62ms/step - loss: 0.1276 - accuracy: 0.9596 - val_loss: 0.1006 - val_accuracy: 0.9745\n",
            "Epoch 15/40\n",
            "907/907 [==============================] - 56s 62ms/step - loss: 0.1264 - accuracy: 0.9592 - val_loss: 0.0920 - val_accuracy: 0.9735\n",
            "Epoch 16/40\n",
            "907/907 [==============================] - 57s 62ms/step - loss: 0.1203 - accuracy: 0.9615 - val_loss: 0.0943 - val_accuracy: 0.9705\n",
            "Epoch 17/40\n",
            "907/907 [==============================] - 57s 62ms/step - loss: 0.1157 - accuracy: 0.9634 - val_loss: 0.0988 - val_accuracy: 0.9715\n",
            "Epoch 18/40\n",
            "907/907 [==============================] - 56s 62ms/step - loss: 0.1129 - accuracy: 0.9634 - val_loss: 0.0910 - val_accuracy: 0.9750\n",
            "Epoch 19/40\n",
            "907/907 [==============================] - 56s 62ms/step - loss: 0.1104 - accuracy: 0.9644 - val_loss: 0.0878 - val_accuracy: 0.9765\n",
            "Epoch 20/40\n",
            "907/907 [==============================] - 56s 62ms/step - loss: 0.1048 - accuracy: 0.9662 - val_loss: 0.0905 - val_accuracy: 0.9720\n",
            "Epoch 21/40\n",
            "907/907 [==============================] - 57s 63ms/step - loss: 0.1034 - accuracy: 0.9669 - val_loss: 0.0840 - val_accuracy: 0.9780\n",
            "Epoch 22/40\n",
            "907/907 [==============================] - 56s 62ms/step - loss: 0.1022 - accuracy: 0.9670 - val_loss: 0.0784 - val_accuracy: 0.9795\n",
            "Epoch 23/40\n",
            "907/907 [==============================] - 56s 62ms/step - loss: 0.0980 - accuracy: 0.9683 - val_loss: 0.0957 - val_accuracy: 0.9745\n",
            "Epoch 24/40\n",
            "907/907 [==============================] - 56s 62ms/step - loss: 0.0962 - accuracy: 0.9694 - val_loss: 0.0962 - val_accuracy: 0.9750\n",
            "Epoch 25/40\n",
            "907/907 [==============================] - 57s 62ms/step - loss: 0.0927 - accuracy: 0.9708 - val_loss: 0.0827 - val_accuracy: 0.9785\n",
            "Epoch 26/40\n",
            "907/907 [==============================] - 56s 62ms/step - loss: 0.0945 - accuracy: 0.9696 - val_loss: 0.0774 - val_accuracy: 0.9785\n",
            "Epoch 27/40\n",
            "907/907 [==============================] - 57s 63ms/step - loss: 0.0900 - accuracy: 0.9709 - val_loss: 0.0803 - val_accuracy: 0.9780\n",
            "Epoch 28/40\n",
            "907/907 [==============================] - 58s 64ms/step - loss: 0.0878 - accuracy: 0.9720 - val_loss: 0.0753 - val_accuracy: 0.9800\n",
            "Epoch 29/40\n",
            "907/907 [==============================] - 57s 62ms/step - loss: 0.0871 - accuracy: 0.9717 - val_loss: 0.0865 - val_accuracy: 0.9765\n",
            "Epoch 30/40\n",
            "907/907 [==============================] - 56s 62ms/step - loss: 0.0843 - accuracy: 0.9729 - val_loss: 0.0774 - val_accuracy: 0.9805\n",
            "Epoch 31/40\n",
            "907/907 [==============================] - 57s 63ms/step - loss: 0.0827 - accuracy: 0.9731 - val_loss: 0.0825 - val_accuracy: 0.9770\n",
            "Epoch 32/40\n",
            "907/907 [==============================] - 58s 64ms/step - loss: 0.0826 - accuracy: 0.9733 - val_loss: 0.0924 - val_accuracy: 0.9750\n",
            "Epoch 33/40\n",
            "907/907 [==============================] - 56s 62ms/step - loss: 0.0820 - accuracy: 0.9736 - val_loss: 0.0794 - val_accuracy: 0.9765\n",
            "Epoch 34/40\n",
            "907/907 [==============================] - 56s 62ms/step - loss: 0.0792 - accuracy: 0.9739 - val_loss: 0.0781 - val_accuracy: 0.9810\n",
            "Epoch 35/40\n",
            "907/907 [==============================] - 56s 62ms/step - loss: 0.0785 - accuracy: 0.9748 - val_loss: 0.0842 - val_accuracy: 0.9795\n",
            "Epoch 36/40\n",
            "907/907 [==============================] - 57s 63ms/step - loss: 0.0779 - accuracy: 0.9750 - val_loss: 0.0939 - val_accuracy: 0.9775\n",
            "Epoch 37/40\n",
            "907/907 [==============================] - 57s 63ms/step - loss: 0.0771 - accuracy: 0.9749 - val_loss: 0.0785 - val_accuracy: 0.9810\n",
            "Epoch 38/40\n",
            "907/907 [==============================] - 56s 62ms/step - loss: 0.0754 - accuracy: 0.9757 - val_loss: 0.0814 - val_accuracy: 0.9805\n",
            "Epoch 39/40\n",
            "907/907 [==============================] - 57s 63ms/step - loss: 0.0742 - accuracy: 0.9759 - val_loss: 0.0775 - val_accuracy: 0.9795\n",
            "Epoch 40/40\n",
            "907/907 [==============================] - 57s 62ms/step - loss: 0.0703 - accuracy: 0.9773 - val_loss: 0.0752 - val_accuracy: 0.9810\n"
          ]
        }
      ]
    },
    {
      "cell_type": "markdown",
      "source": [
        "Evaluate"
      ],
      "metadata": {
        "id": "rYpstnQ2SWCk"
      }
    },
    {
      "cell_type": "code",
      "source": [
        "start = time.time()\n",
        "accuracy = model.evaluate(test_images, test_labels)\n",
        "end = time.time()\n",
        "print(\"Accuracy :\",accuracy[1])\n",
        "print(\"Images per second :\", int(test_images.shape[0]/(end - start)))"
      ],
      "metadata": {
        "colab": {
          "base_uri": "https://localhost:8080/"
        },
        "id": "bQATuxBQTUAR",
        "outputId": "b2517637-5b94-4fe8-a881-14feec0afb66"
      },
      "execution_count": 8,
      "outputs": [
        {
          "output_type": "stream",
          "name": "stdout",
          "text": [
            "313/313 [==============================] - 5s 14ms/step - loss: 0.0800 - accuracy: 0.9756\n",
            "Accuracy : 0.975600004196167\n",
            "Images per second : 1926\n"
          ]
        }
      ]
    },
    {
      "cell_type": "code",
      "source": [
        "# Guardar el Modelo\n",
        "model.save('model_SepConv2.h5')\n"
      ],
      "metadata": {
        "id": "KMhULrkAVcBr"
      },
      "execution_count": 9,
      "outputs": []
    }
  ]
}