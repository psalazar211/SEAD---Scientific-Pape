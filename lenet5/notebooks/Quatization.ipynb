{
  "nbformat": 4,
  "nbformat_minor": 0,
  "metadata": {
    "colab": {
      "provenance": []
    },
    "kernelspec": {
      "name": "python3",
      "display_name": "Python 3"
    },
    "language_info": {
      "name": "python"
    }
  },
  "cells": [
    {
      "cell_type": "markdown",
      "source": [
        "## Lenet 5 con MNIST"
      ],
      "metadata": {
        "id": "X-3jlT8i_6BO"
      }
    },
    {
      "cell_type": "markdown",
      "source": [
        "Imports"
      ],
      "metadata": {
        "id": "6-HEMtXRBJfw"
      }
    },
    {
      "cell_type": "code",
      "source": [
        "! pip install -q tensorflow-model-optimization"
      ],
      "metadata": {
        "id": "h-DQX1tA6ARz",
        "colab": {
          "base_uri": "https://localhost:8080/"
        },
        "outputId": "f5d7e944-66da-47fc-b9cb-c209863327c3"
      },
      "execution_count": 1,
      "outputs": [
        {
          "output_type": "stream",
          "name": "stdout",
          "text": [
            "\u001b[2K     \u001b[90m━━━━━━━━━━━━━━━━━━━━━━━━━━━━━━━━━━━━━━\u001b[0m \u001b[32m241.2/241.2 kB\u001b[0m \u001b[31m10.2 MB/s\u001b[0m eta \u001b[36m0:00:00\u001b[0m\n",
            "\u001b[2K     \u001b[90m━━━━━━━━━━━━━━━━━━━━━━━━━━━━━━━━━━━━━━━━\u001b[0m \u001b[32m17.6/17.6 MB\u001b[0m \u001b[31m67.1 MB/s\u001b[0m eta \u001b[36m0:00:00\u001b[0m\n",
            "\u001b[?25h\u001b[31mERROR: pip's dependency resolver does not currently take into account all the packages that are installed. This behaviour is the source of the following dependency conflicts.\n",
            "numba 0.56.4 requires numpy<1.24,>=1.18, but you have numpy 1.25.1 which is incompatible.\n",
            "tensorflow 2.12.0 requires numpy<1.24,>=1.22, but you have numpy 1.25.1 which is incompatible.\u001b[0m\u001b[31m\n",
            "\u001b[0m"
          ]
        }
      ]
    },
    {
      "cell_type": "code",
      "source": [
        "import tempfile\n",
        "import os\n",
        "import time\n",
        "import numpy as np\n",
        "import tensorflow as tf\n",
        "from tensorflow import keras\n",
        "from tensorflow.keras import datasets, layers, models, losses\n",
        "import tensorflow_model_optimization as tfmot"
      ],
      "metadata": {
        "id": "lk11GE77AKBq"
      },
      "execution_count": 2,
      "outputs": []
    },
    {
      "cell_type": "markdown",
      "source": [
        "Load dataset"
      ],
      "metadata": {
        "id": "V0oABirvBK7t"
      }
    },
    {
      "cell_type": "code",
      "source": [
        "mnist = keras.datasets.mnist\n",
        "(train_images, train_labels), (test_images, test_labels) = mnist.load_data()\n",
        "train_images.shape"
      ],
      "metadata": {
        "colab": {
          "base_uri": "https://localhost:8080/"
        },
        "id": "J2k1vLhQBNHo",
        "outputId": "88a963fa-dbe7-459f-adb3-af968272b2c7"
      },
      "execution_count": 3,
      "outputs": [
        {
          "output_type": "stream",
          "name": "stdout",
          "text": [
            "Downloading data from https://storage.googleapis.com/tensorflow/tf-keras-datasets/mnist.npz\n",
            "11490434/11490434 [==============================] - 1s 0us/step\n"
          ]
        },
        {
          "output_type": "execute_result",
          "data": {
            "text/plain": [
              "(60000, 28, 28)"
            ]
          },
          "metadata": {},
          "execution_count": 3
        }
      ]
    },
    {
      "cell_type": "markdown",
      "source": [
        "Normalize the input image so that each pixel value is between 0 to 1."
      ],
      "metadata": {
        "id": "pKqjTRJZBYjm"
      }
    },
    {
      "cell_type": "code",
      "source": [
        "train_images = tf.pad(train_images, [[0, 0], [2,2], [2,2]])/255\n",
        "test_images = tf.pad(test_images, [[0, 0], [2,2], [2,2]])/255\n",
        "train_images.shape"
      ],
      "metadata": {
        "colab": {
          "base_uri": "https://localhost:8080/"
        },
        "id": "POC_cPhyBjb9",
        "outputId": "c5d3d4c2-be19-43dd-88c7-367dace285fe"
      },
      "execution_count": 4,
      "outputs": [
        {
          "output_type": "execute_result",
          "data": {
            "text/plain": [
              "TensorShape([60000, 32, 32])"
            ]
          },
          "metadata": {},
          "execution_count": 4
        }
      ]
    },
    {
      "cell_type": "markdown",
      "source": [
        "Most CNN’s accept 4-dimensional tensors as inputs having the dimensions of batch size, height, width, and channel. Since MNIST images are grayscale, the last dimension does not necessarily exist. We need to expand the tensor and create a dummy dimension at axis number 3. (Recall that the tensor initially had axis 0, 1, and 2.)"
      ],
      "metadata": {
        "id": "pyvXrMcTJ-rx"
      }
    },
    {
      "cell_type": "code",
      "source": [
        "train_images = tf.expand_dims(train_images, axis=3, name=None)\n",
        "test_images = tf.expand_dims(test_images, axis=3, name=None)\n",
        "train_images.shape"
      ],
      "metadata": {
        "colab": {
          "base_uri": "https://localhost:8080/"
        },
        "id": "XJ9BW1LzKAAx",
        "outputId": "ffdf28a8-a716-4113-fcee-ff51f0fefbda"
      },
      "execution_count": 5,
      "outputs": [
        {
          "output_type": "execute_result",
          "data": {
            "text/plain": [
              "TensorShape([60000, 32, 32, 1])"
            ]
          },
          "metadata": {},
          "execution_count": 5
        }
      ]
    },
    {
      "cell_type": "markdown",
      "source": [
        "The last 2000 samples of the training set are reserved for the validation set."
      ],
      "metadata": {
        "id": "IlBlYJ2HK246"
      }
    },
    {
      "cell_type": "code",
      "source": [
        "val_images = train_images[-2000:,:,:,:]\n",
        "val_labels = train_labels[-2000:]\n",
        "train_images = train_images[:-2000,:,:,:]\n",
        "train_labels = train_labels[:-2000]"
      ],
      "metadata": {
        "id": "QfW9oSdhK3tm"
      },
      "execution_count": 6,
      "outputs": []
    },
    {
      "cell_type": "markdown",
      "source": [
        "Define the model architecture."
      ],
      "metadata": {
        "id": "OpmYmYzpBtOl"
      }
    },
    {
      "cell_type": "code",
      "source": [
        "model = keras.models.load_model('model.h5')\n",
        "model.summary()"
      ],
      "metadata": {
        "colab": {
          "base_uri": "https://localhost:8080/"
        },
        "id": "Da5u0EHUBx8T",
        "outputId": "04a2a980-520e-4a34-9465-b35a66483a9c"
      },
      "execution_count": 7,
      "outputs": [
        {
          "output_type": "stream",
          "name": "stdout",
          "text": [
            "Model: \"sequential\"\n",
            "_________________________________________________________________\n",
            " Layer (type)                Output Shape              Param #   \n",
            "=================================================================\n",
            " conv2d (Conv2D)             (None, 28, 28, 6)         156       \n",
            "                                                                 \n",
            " average_pooling2d (AverageP  (None, 14, 14, 6)        0         \n",
            " ooling2D)                                                       \n",
            "                                                                 \n",
            " activation (Activation)     (None, 14, 14, 6)         0         \n",
            "                                                                 \n",
            " conv2d_1 (Conv2D)           (None, 10, 10, 16)        2416      \n",
            "                                                                 \n",
            " average_pooling2d_1 (Averag  (None, 5, 5, 16)         0         \n",
            " ePooling2D)                                                     \n",
            "                                                                 \n",
            " activation_1 (Activation)   (None, 5, 5, 16)          0         \n",
            "                                                                 \n",
            " conv2d_2 (Conv2D)           (None, 1, 1, 120)         48120     \n",
            "                                                                 \n",
            " flatten (Flatten)           (None, 120)               0         \n",
            "                                                                 \n",
            " dense (Dense)               (None, 84)                10164     \n",
            "                                                                 \n",
            " dense_1 (Dense)             (None, 10)                850       \n",
            "                                                                 \n",
            "=================================================================\n",
            "Total params: 61,706\n",
            "Trainable params: 61,706\n",
            "Non-trainable params: 0\n",
            "_________________________________________________________________\n"
          ]
        }
      ]
    },
    {
      "cell_type": "markdown",
      "source": [
        "Pruning"
      ],
      "metadata": {
        "id": "XpIta3xc5Ts9"
      }
    },
    {
      "cell_type": "code",
      "source": [
        "quantize_model = tfmot.quantization.keras.quantize_model"
      ],
      "metadata": {
        "id": "9vBHbc475eW3"
      },
      "execution_count": 8,
      "outputs": []
    },
    {
      "cell_type": "code",
      "source": [
        "# q_aware stands for for quantization aware.\n",
        "q_aware_model = quantize_model(model)\n",
        "\n",
        "# `quantize_model` requires a recompile.\n",
        "q_aware_model.compile(optimizer='adam',\n",
        "              loss=tf.keras.losses.SparseCategoricalCrossentropy(from_logits=True),\n",
        "              metrics=['accuracy'])\n",
        "\n",
        "q_aware_model.summary()"
      ],
      "metadata": {
        "colab": {
          "base_uri": "https://localhost:8080/"
        },
        "id": "cNdJIaSm6L1C",
        "outputId": "9716d33b-9cba-4a04-c4e3-1745e1283957"
      },
      "execution_count": 9,
      "outputs": [
        {
          "output_type": "stream",
          "name": "stdout",
          "text": [
            "Model: \"sequential\"\n",
            "_________________________________________________________________\n",
            " Layer (type)                Output Shape              Param #   \n",
            "=================================================================\n",
            " quantize_layer (QuantizeLay  (None, 32, 32, 1)        3         \n",
            " er)                                                             \n",
            "                                                                 \n",
            " quant_conv2d (QuantizeWrapp  (None, 28, 28, 6)        171       \n",
            " erV2)                                                           \n",
            "                                                                 \n",
            " quant_average_pooling2d (Qu  (None, 14, 14, 6)        3         \n",
            " antizeWrapperV2)                                                \n",
            "                                                                 \n",
            " quant_activation (QuantizeW  (None, 14, 14, 6)        1         \n",
            " rapperV2)                                                       \n",
            "                                                                 \n",
            " quant_conv2d_1 (QuantizeWra  (None, 10, 10, 16)       2451      \n",
            " pperV2)                                                         \n",
            "                                                                 \n",
            " quant_average_pooling2d_1 (  (None, 5, 5, 16)         3         \n",
            " QuantizeWrapperV2)                                              \n",
            "                                                                 \n",
            " quant_activation_1 (Quantiz  (None, 5, 5, 16)         1         \n",
            " eWrapperV2)                                                     \n",
            "                                                                 \n",
            " quant_conv2d_2 (QuantizeWra  (None, 1, 1, 120)        48363     \n",
            " pperV2)                                                         \n",
            "                                                                 \n",
            " quant_flatten (QuantizeWrap  (None, 120)              1         \n",
            " perV2)                                                          \n",
            "                                                                 \n",
            " quant_dense (QuantizeWrappe  (None, 84)               10169     \n",
            " rV2)                                                            \n",
            "                                                                 \n",
            " quant_dense_1 (QuantizeWrap  (None, 10)               855       \n",
            " perV2)                                                          \n",
            "                                                                 \n",
            "=================================================================\n",
            "Total params: 62,021\n",
            "Trainable params: 61,706\n",
            "Non-trainable params: 315\n",
            "_________________________________________________________________\n"
          ]
        }
      ]
    },
    {
      "cell_type": "markdown",
      "source": [
        "Train model"
      ],
      "metadata": {
        "id": "sITxXcEqLiHW"
      }
    },
    {
      "cell_type": "code",
      "source": [
        "q_aware_model.compile(optimizer='adam', loss=losses.sparse_categorical_crossentropy, metrics=['accuracy'])\n",
        "history = q_aware_model.fit(train_images, train_labels, batch_size=64, epochs=40, validation_data=(val_images, val_labels))"
      ],
      "metadata": {
        "colab": {
          "base_uri": "https://localhost:8080/"
        },
        "id": "Je-yfy70EQFb",
        "outputId": "ffb66a88-ef21-4709-937f-ddbb77ac1709"
      },
      "execution_count": 10,
      "outputs": [
        {
          "output_type": "stream",
          "name": "stdout",
          "text": [
            "Epoch 1/40\n",
            "907/907 [==============================] - 55s 56ms/step - loss: 0.0515 - accuracy: 0.9845 - val_loss: 0.0613 - val_accuracy: 0.9885\n",
            "Epoch 2/40\n",
            "907/907 [==============================] - 46s 50ms/step - loss: 0.0426 - accuracy: 0.9860 - val_loss: 0.0670 - val_accuracy: 0.9825\n",
            "Epoch 3/40\n",
            "907/907 [==============================] - 47s 51ms/step - loss: 0.0406 - accuracy: 0.9866 - val_loss: 0.0612 - val_accuracy: 0.9900\n",
            "Epoch 4/40\n",
            "907/907 [==============================] - 47s 52ms/step - loss: 0.0393 - accuracy: 0.9865 - val_loss: 0.0658 - val_accuracy: 0.9885\n",
            "Epoch 5/40\n",
            "907/907 [==============================] - 46s 51ms/step - loss: 0.0406 - accuracy: 0.9862 - val_loss: 0.0730 - val_accuracy: 0.9860\n",
            "Epoch 6/40\n",
            "907/907 [==============================] - 46s 50ms/step - loss: 0.0367 - accuracy: 0.9881 - val_loss: 0.0788 - val_accuracy: 0.9840\n",
            "Epoch 7/40\n",
            "907/907 [==============================] - 46s 51ms/step - loss: 0.0364 - accuracy: 0.9882 - val_loss: 0.0739 - val_accuracy: 0.9835\n",
            "Epoch 8/40\n",
            "907/907 [==============================] - 47s 51ms/step - loss: 0.0381 - accuracy: 0.9877 - val_loss: 0.0728 - val_accuracy: 0.9870\n",
            "Epoch 9/40\n",
            "907/907 [==============================] - 46s 51ms/step - loss: 0.0349 - accuracy: 0.9885 - val_loss: 0.0584 - val_accuracy: 0.9870\n",
            "Epoch 10/40\n",
            "907/907 [==============================] - 46s 50ms/step - loss: 0.0357 - accuracy: 0.9877 - val_loss: 0.0687 - val_accuracy: 0.9850\n",
            "Epoch 11/40\n",
            "907/907 [==============================] - 48s 53ms/step - loss: 0.0343 - accuracy: 0.9887 - val_loss: 0.0552 - val_accuracy: 0.9885\n",
            "Epoch 12/40\n",
            "907/907 [==============================] - 46s 51ms/step - loss: 0.0342 - accuracy: 0.9886 - val_loss: 0.0701 - val_accuracy: 0.9860\n",
            "Epoch 13/40\n",
            "907/907 [==============================] - 46s 51ms/step - loss: 0.0339 - accuracy: 0.9884 - val_loss: 0.0672 - val_accuracy: 0.9875\n",
            "Epoch 14/40\n",
            "907/907 [==============================] - 47s 52ms/step - loss: 0.0330 - accuracy: 0.9889 - val_loss: 0.0725 - val_accuracy: 0.9870\n",
            "Epoch 15/40\n",
            "907/907 [==============================] - 46s 51ms/step - loss: 0.0320 - accuracy: 0.9895 - val_loss: 0.0665 - val_accuracy: 0.9845\n",
            "Epoch 16/40\n",
            "907/907 [==============================] - 46s 51ms/step - loss: 0.0323 - accuracy: 0.9890 - val_loss: 0.0650 - val_accuracy: 0.9880\n",
            "Epoch 17/40\n",
            "907/907 [==============================] - 47s 52ms/step - loss: 0.0317 - accuracy: 0.9892 - val_loss: 0.0570 - val_accuracy: 0.9880\n",
            "Epoch 18/40\n",
            "907/907 [==============================] - 46s 51ms/step - loss: 0.0326 - accuracy: 0.9887 - val_loss: 0.0611 - val_accuracy: 0.9875\n",
            "Epoch 19/40\n",
            "907/907 [==============================] - 46s 51ms/step - loss: 0.0275 - accuracy: 0.9909 - val_loss: 0.0668 - val_accuracy: 0.9890\n",
            "Epoch 20/40\n",
            "907/907 [==============================] - 47s 51ms/step - loss: 0.0305 - accuracy: 0.9896 - val_loss: 0.0671 - val_accuracy: 0.9855\n",
            "Epoch 21/40\n",
            "907/907 [==============================] - 47s 51ms/step - loss: 0.0308 - accuracy: 0.9894 - val_loss: 0.0977 - val_accuracy: 0.9805\n",
            "Epoch 22/40\n",
            "907/907 [==============================] - 46s 51ms/step - loss: 0.0286 - accuracy: 0.9903 - val_loss: 0.0678 - val_accuracy: 0.9880\n",
            "Epoch 23/40\n",
            "907/907 [==============================] - 47s 52ms/step - loss: 0.0307 - accuracy: 0.9898 - val_loss: 0.0643 - val_accuracy: 0.9845\n",
            "Epoch 24/40\n",
            "907/907 [==============================] - 47s 52ms/step - loss: 0.0262 - accuracy: 0.9908 - val_loss: 0.0678 - val_accuracy: 0.9865\n",
            "Epoch 25/40\n",
            "907/907 [==============================] - 46s 51ms/step - loss: 0.0278 - accuracy: 0.9902 - val_loss: 0.0764 - val_accuracy: 0.9870\n",
            "Epoch 26/40\n",
            "907/907 [==============================] - 47s 52ms/step - loss: 0.0281 - accuracy: 0.9906 - val_loss: 0.0750 - val_accuracy: 0.9845\n",
            "Epoch 27/40\n",
            "907/907 [==============================] - 47s 52ms/step - loss: 0.0254 - accuracy: 0.9913 - val_loss: 0.0619 - val_accuracy: 0.9885\n",
            "Epoch 28/40\n",
            "907/907 [==============================] - 46s 51ms/step - loss: 0.0274 - accuracy: 0.9906 - val_loss: 0.0648 - val_accuracy: 0.9875\n",
            "Epoch 29/40\n",
            "907/907 [==============================] - 46s 51ms/step - loss: 0.0248 - accuracy: 0.9917 - val_loss: 0.0814 - val_accuracy: 0.9840\n",
            "Epoch 30/40\n",
            "907/907 [==============================] - 48s 53ms/step - loss: 0.0276 - accuracy: 0.9906 - val_loss: 0.0649 - val_accuracy: 0.9900\n",
            "Epoch 31/40\n",
            "907/907 [==============================] - 46s 51ms/step - loss: 0.0238 - accuracy: 0.9919 - val_loss: 0.0604 - val_accuracy: 0.9900\n",
            "Epoch 32/40\n",
            "907/907 [==============================] - 46s 51ms/step - loss: 0.0229 - accuracy: 0.9924 - val_loss: 0.0641 - val_accuracy: 0.9870\n",
            "Epoch 33/40\n",
            "907/907 [==============================] - 48s 53ms/step - loss: 0.0262 - accuracy: 0.9914 - val_loss: 0.0641 - val_accuracy: 0.9865\n",
            "Epoch 34/40\n",
            "907/907 [==============================] - 46s 51ms/step - loss: 0.0228 - accuracy: 0.9924 - val_loss: 0.0570 - val_accuracy: 0.9900\n",
            "Epoch 35/40\n",
            "907/907 [==============================] - 46s 50ms/step - loss: 0.0221 - accuracy: 0.9923 - val_loss: 0.0730 - val_accuracy: 0.9840\n",
            "Epoch 36/40\n",
            "907/907 [==============================] - 47s 52ms/step - loss: 0.0235 - accuracy: 0.9920 - val_loss: 0.0646 - val_accuracy: 0.9880\n",
            "Epoch 37/40\n",
            "907/907 [==============================] - 47s 51ms/step - loss: 0.0267 - accuracy: 0.9907 - val_loss: 0.0761 - val_accuracy: 0.9840\n",
            "Epoch 38/40\n",
            "907/907 [==============================] - 46s 51ms/step - loss: 0.0213 - accuracy: 0.9927 - val_loss: 0.0658 - val_accuracy: 0.9905\n",
            "Epoch 39/40\n",
            "907/907 [==============================] - 47s 52ms/step - loss: 0.0213 - accuracy: 0.9926 - val_loss: 0.0619 - val_accuracy: 0.9875\n",
            "Epoch 40/40\n",
            "907/907 [==============================] - 49s 54ms/step - loss: 0.0241 - accuracy: 0.9918 - val_loss: 0.0599 - val_accuracy: 0.9905\n"
          ]
        }
      ]
    },
    {
      "cell_type": "markdown",
      "source": [
        "Evaluate"
      ],
      "metadata": {
        "id": "rYpstnQ2SWCk"
      }
    },
    {
      "cell_type": "code",
      "source": [
        "start = time.time()\n",
        "accuracy = q_aware_model.evaluate(test_images, test_labels)\n",
        "end = time.time()\n",
        "print(\"Accuracy :\",accuracy[1])\n",
        "print(\"Images per second :\", int(test_images.shape[0]/(end - start)))"
      ],
      "metadata": {
        "colab": {
          "base_uri": "https://localhost:8080/"
        },
        "id": "bQATuxBQTUAR",
        "outputId": "2f61e643-87dd-4af4-e936-1bd15c851c7a"
      },
      "execution_count": 13,
      "outputs": [
        {
          "output_type": "stream",
          "name": "stdout",
          "text": [
            "313/313 [==============================] - 3s 11ms/step - loss: 0.0561 - accuracy: 0.9833\n",
            "Accuracy : 0.983299970626831\n",
            "Images per second : 1923\n"
          ]
        }
      ]
    },
    {
      "cell_type": "code",
      "source": [
        "# Guardar el Modelo\n",
        "q_aware_model.save('model_quat.h5')\n"
      ],
      "metadata": {
        "id": "KMhULrkAVcBr"
      },
      "execution_count": 15,
      "outputs": []
    }
  ]
}