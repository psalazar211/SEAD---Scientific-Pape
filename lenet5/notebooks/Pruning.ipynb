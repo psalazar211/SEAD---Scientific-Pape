{
  "nbformat": 4,
  "nbformat_minor": 0,
  "metadata": {
    "colab": {
      "provenance": []
    },
    "kernelspec": {
      "name": "python3",
      "display_name": "Python 3"
    },
    "language_info": {
      "name": "python"
    }
  },
  "cells": [
    {
      "cell_type": "markdown",
      "source": [
        "## Lenet 5 con MNIST"
      ],
      "metadata": {
        "id": "X-3jlT8i_6BO"
      }
    },
    {
      "cell_type": "markdown",
      "source": [
        "Imports"
      ],
      "metadata": {
        "id": "6-HEMtXRBJfw"
      }
    },
    {
      "cell_type": "code",
      "source": [
        "! pip install -q tensorflow-model-optimization"
      ],
      "metadata": {
        "id": "h-DQX1tA6ARz"
      },
      "execution_count": 1,
      "outputs": []
    },
    {
      "cell_type": "code",
      "source": [
        "import tempfile\n",
        "import os\n",
        "import time\n",
        "import numpy as np\n",
        "import tensorflow as tf\n",
        "from tensorflow import keras\n",
        "from tensorflow.keras import datasets, layers, models, losses\n",
        "import tensorflow_model_optimization as tfmot"
      ],
      "metadata": {
        "id": "lk11GE77AKBq"
      },
      "execution_count": 2,
      "outputs": []
    },
    {
      "cell_type": "markdown",
      "source": [
        "Load dataset"
      ],
      "metadata": {
        "id": "V0oABirvBK7t"
      }
    },
    {
      "cell_type": "code",
      "source": [
        "mnist = keras.datasets.mnist\n",
        "(train_images, train_labels), (test_images, test_labels) = mnist.load_data()\n",
        "train_images.shape"
      ],
      "metadata": {
        "colab": {
          "base_uri": "https://localhost:8080/"
        },
        "id": "J2k1vLhQBNHo",
        "outputId": "db150829-95ed-48dd-b45a-bb6fb3c27a1f"
      },
      "execution_count": 3,
      "outputs": [
        {
          "output_type": "execute_result",
          "data": {
            "text/plain": [
              "(60000, 28, 28)"
            ]
          },
          "metadata": {},
          "execution_count": 3
        }
      ]
    },
    {
      "cell_type": "markdown",
      "source": [
        "Normalize the input image so that each pixel value is between 0 to 1."
      ],
      "metadata": {
        "id": "pKqjTRJZBYjm"
      }
    },
    {
      "cell_type": "code",
      "source": [
        "train_images = tf.pad(train_images, [[0, 0], [2,2], [2,2]])/255\n",
        "test_images = tf.pad(test_images, [[0, 0], [2,2], [2,2]])/255\n",
        "train_images.shape"
      ],
      "metadata": {
        "colab": {
          "base_uri": "https://localhost:8080/"
        },
        "id": "POC_cPhyBjb9",
        "outputId": "81335029-e706-4405-c8e1-2afdcef29e1e"
      },
      "execution_count": 4,
      "outputs": [
        {
          "output_type": "execute_result",
          "data": {
            "text/plain": [
              "TensorShape([60000, 32, 32])"
            ]
          },
          "metadata": {},
          "execution_count": 4
        }
      ]
    },
    {
      "cell_type": "markdown",
      "source": [
        "Most CNN’s accept 4-dimensional tensors as inputs having the dimensions of batch size, height, width, and channel. Since MNIST images are grayscale, the last dimension does not necessarily exist. We need to expand the tensor and create a dummy dimension at axis number 3. (Recall that the tensor initially had axis 0, 1, and 2.)"
      ],
      "metadata": {
        "id": "pyvXrMcTJ-rx"
      }
    },
    {
      "cell_type": "code",
      "source": [
        "train_images = tf.expand_dims(train_images, axis=3, name=None)\n",
        "test_images = tf.expand_dims(test_images, axis=3, name=None)\n",
        "train_images.shape"
      ],
      "metadata": {
        "colab": {
          "base_uri": "https://localhost:8080/"
        },
        "id": "XJ9BW1LzKAAx",
        "outputId": "6c126296-63de-4e4e-df9d-54c939913869"
      },
      "execution_count": 5,
      "outputs": [
        {
          "output_type": "execute_result",
          "data": {
            "text/plain": [
              "TensorShape([60000, 32, 32, 1])"
            ]
          },
          "metadata": {},
          "execution_count": 5
        }
      ]
    },
    {
      "cell_type": "markdown",
      "source": [
        "The last 2000 samples of the training set are reserved for the validation set."
      ],
      "metadata": {
        "id": "IlBlYJ2HK246"
      }
    },
    {
      "cell_type": "code",
      "source": [
        "val_images = train_images[-2000:,:,:,:]\n",
        "val_labels = train_labels[-2000:]\n",
        "train_images = train_images[:-2000,:,:,:]\n",
        "train_labels = train_labels[:-2000]"
      ],
      "metadata": {
        "id": "QfW9oSdhK3tm"
      },
      "execution_count": 6,
      "outputs": []
    },
    {
      "cell_type": "markdown",
      "source": [
        "Define the model architecture."
      ],
      "metadata": {
        "id": "OpmYmYzpBtOl"
      }
    },
    {
      "cell_type": "code",
      "source": [
        "model = keras.models.load_model('model.h5')\n",
        "model.summary()"
      ],
      "metadata": {
        "colab": {
          "base_uri": "https://localhost:8080/"
        },
        "id": "Da5u0EHUBx8T",
        "outputId": "8e3fb6b6-0ef7-456b-a2f9-b5aea2955063"
      },
      "execution_count": 7,
      "outputs": [
        {
          "output_type": "stream",
          "name": "stdout",
          "text": [
            "Model: \"sequential\"\n",
            "_________________________________________________________________\n",
            " Layer (type)                Output Shape              Param #   \n",
            "=================================================================\n",
            " conv2d (Conv2D)             (None, 28, 28, 6)         156       \n",
            "                                                                 \n",
            " average_pooling2d (AverageP  (None, 14, 14, 6)        0         \n",
            " ooling2D)                                                       \n",
            "                                                                 \n",
            " activation (Activation)     (None, 14, 14, 6)         0         \n",
            "                                                                 \n",
            " conv2d_1 (Conv2D)           (None, 10, 10, 16)        2416      \n",
            "                                                                 \n",
            " average_pooling2d_1 (Averag  (None, 5, 5, 16)         0         \n",
            " ePooling2D)                                                     \n",
            "                                                                 \n",
            " activation_1 (Activation)   (None, 5, 5, 16)          0         \n",
            "                                                                 \n",
            " conv2d_2 (Conv2D)           (None, 1, 1, 120)         48120     \n",
            "                                                                 \n",
            " flatten (Flatten)           (None, 120)               0         \n",
            "                                                                 \n",
            " dense (Dense)               (None, 84)                10164     \n",
            "                                                                 \n",
            " dense_1 (Dense)             (None, 10)                850       \n",
            "                                                                 \n",
            "=================================================================\n",
            "Total params: 61,706\n",
            "Trainable params: 61,706\n",
            "Non-trainable params: 0\n",
            "_________________________________________________________________\n"
          ]
        }
      ]
    },
    {
      "cell_type": "markdown",
      "source": [
        "Pruning"
      ],
      "metadata": {
        "id": "XpIta3xc5Ts9"
      }
    },
    {
      "cell_type": "code",
      "source": [
        "prune_low_magnitude = tfmot.sparsity.keras.prune_low_magnitude"
      ],
      "metadata": {
        "id": "9vBHbc475eW3"
      },
      "execution_count": 8,
      "outputs": []
    },
    {
      "cell_type": "code",
      "source": [
        "batch_size=64\n",
        "epochs=2\n",
        "\n",
        "num_images = train_images.shape[0]\n",
        "end_step = np.ceil(num_images / batch_size).astype(np.int32) * epochs\n",
        "\n",
        "# Define model for pruning.\n",
        "pruning_params = {\n",
        "      'pruning_schedule': tfmot.sparsity.keras.PolynomialDecay(initial_sparsity=0.50,\n",
        "                                                               final_sparsity=0.80,\n",
        "                                                               begin_step=0,\n",
        "                                                               end_step=end_step)\n",
        "}\n",
        "\n",
        "model_for_pruning = prune_low_magnitude(model, **pruning_params)\n",
        "\n",
        "# `prune_low_magnitude` requires a recompile.\n",
        "model_for_pruning.compile(optimizer='adam',\n",
        "              loss=tf.keras.losses.SparseCategoricalCrossentropy(from_logits=True),\n",
        "              metrics=['accuracy'])\n",
        "\n",
        "model_for_pruning.summary()"
      ],
      "metadata": {
        "colab": {
          "base_uri": "https://localhost:8080/"
        },
        "id": "cNdJIaSm6L1C",
        "outputId": "f1912be3-fa46-4cec-8685-ae22aff35ee0"
      },
      "execution_count": 9,
      "outputs": [
        {
          "output_type": "stream",
          "name": "stdout",
          "text": [
            "Model: \"sequential\"\n",
            "_________________________________________________________________\n",
            " Layer (type)                Output Shape              Param #   \n",
            "=================================================================\n",
            " prune_low_magnitude_conv2d   (None, 28, 28, 6)        308       \n",
            " (PruneLowMagnitude)                                             \n",
            "                                                                 \n",
            " prune_low_magnitude_average  (None, 14, 14, 6)        1         \n",
            " _pooling2d (PruneLowMagnitu                                     \n",
            " de)                                                             \n",
            "                                                                 \n",
            " prune_low_magnitude_activat  (None, 14, 14, 6)        1         \n",
            " ion (PruneLowMagnitude)                                         \n",
            "                                                                 \n",
            " prune_low_magnitude_conv2d_  (None, 10, 10, 16)       4818      \n",
            " 1 (PruneLowMagnitude)                                           \n",
            "                                                                 \n",
            " prune_low_magnitude_average  (None, 5, 5, 16)         1         \n",
            " _pooling2d_1 (PruneLowMagni                                     \n",
            " tude)                                                           \n",
            "                                                                 \n",
            " prune_low_magnitude_activat  (None, 5, 5, 16)         1         \n",
            " ion_1 (PruneLowMagnitude)                                       \n",
            "                                                                 \n",
            " prune_low_magnitude_conv2d_  (None, 1, 1, 120)        96122     \n",
            " 2 (PruneLowMagnitude)                                           \n",
            "                                                                 \n",
            " prune_low_magnitude_flatten  (None, 120)              1         \n",
            "  (PruneLowMagnitude)                                            \n",
            "                                                                 \n",
            " prune_low_magnitude_dense (  (None, 84)               20246     \n",
            " PruneLowMagnitude)                                              \n",
            "                                                                 \n",
            " prune_low_magnitude_dense_1  (None, 10)               1692      \n",
            "  (PruneLowMagnitude)                                            \n",
            "                                                                 \n",
            "=================================================================\n",
            "Total params: 123,191\n",
            "Trainable params: 61,706\n",
            "Non-trainable params: 61,485\n",
            "_________________________________________________________________\n"
          ]
        }
      ]
    },
    {
      "cell_type": "markdown",
      "source": [
        "Train model"
      ],
      "metadata": {
        "id": "sITxXcEqLiHW"
      }
    },
    {
      "cell_type": "code",
      "source": [
        "logdir = tempfile.mkdtemp()\n",
        "\n",
        "callbacks = [\n",
        "  tfmot.sparsity.keras.UpdatePruningStep(),\n",
        "  tfmot.sparsity.keras.PruningSummaries(log_dir=logdir),\n",
        "]"
      ],
      "metadata": {
        "id": "98T_NjW376ah"
      },
      "execution_count": 12,
      "outputs": []
    },
    {
      "cell_type": "code",
      "source": [
        "model_for_pruning.compile(optimizer='adam', loss=losses.sparse_categorical_crossentropy, metrics=['accuracy'])\n",
        "history = model_for_pruning.fit(train_images, train_labels, batch_size=64, epochs=2, validation_data=(val_images, val_labels))"
      ],
      "metadata": {
        "colab": {
          "base_uri": "https://localhost:8080/"
        },
        "id": "Je-yfy70EQFb",
        "outputId": "20e70b0d-2bae-4c6d-dc5b-9692c31f0b1a"
      },
      "execution_count": 13,
      "outputs": [
        {
          "output_type": "stream",
          "name": "stdout",
          "text": [
            "Epoch 1/2\n",
            "907/907 [==============================] - 46s 45ms/step - loss: 0.0619 - accuracy: 0.9813 - val_loss: 0.0876 - val_accuracy: 0.9805\n",
            "Epoch 2/2\n",
            "907/907 [==============================] - 41s 45ms/step - loss: 0.0643 - accuracy: 0.9811 - val_loss: 0.0625 - val_accuracy: 0.9835\n"
          ]
        }
      ]
    },
    {
      "cell_type": "markdown",
      "source": [
        "Evaluate"
      ],
      "metadata": {
        "id": "rYpstnQ2SWCk"
      }
    },
    {
      "cell_type": "code",
      "source": [
        "start = time.time()\n",
        "accuracy = model_for_pruning.evaluate(test_images, test_labels)\n",
        "end = time.time()\n",
        "print(\"Accuracy :\",accuracy[1])\n",
        "print(\"Images per second :\", int(test_images.shape[0]/(end - start)))"
      ],
      "metadata": {
        "colab": {
          "base_uri": "https://localhost:8080/"
        },
        "id": "bQATuxBQTUAR",
        "outputId": "a774fdf8-57d9-4dd8-8fab-4fc0cb5c325b"
      },
      "execution_count": 15,
      "outputs": [
        {
          "output_type": "stream",
          "name": "stdout",
          "text": [
            "313/313 [==============================] - 3s 9ms/step - loss: 0.0636 - accuracy: 0.9808\n",
            "Accuracy : 0.9807999730110168\n",
            "Images per second : 1931\n"
          ]
        }
      ]
    },
    {
      "cell_type": "code",
      "source": [
        "# Guardar el Modelo\n",
        "model_for_pruning.save('model_pruning.h5')\n"
      ],
      "metadata": {
        "id": "KMhULrkAVcBr"
      },
      "execution_count": 16,
      "outputs": []
    }
  ]
}